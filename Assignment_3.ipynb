{
  "nbformat": 4,
  "nbformat_minor": 0,
  "metadata": {
    "colab": {
      "provenance": []
    },
    "kernelspec": {
      "name": "python3",
      "display_name": "Python 3"
    },
    "language_info": {
      "name": "python"
    }
  },
  "cells": [
    {
      "cell_type": "markdown",
      "source": [
        "**Theory Questions:**\n",
        "1. What is the difference between a function and a method in Python\n",
        " - Function: A block of reusable code defined using def that performs a task\n",
        " - Method: A function that is associated with an object/class and can be access or modify the objects class\n",
        "\n",
        "2. Explain the concept of function arguments and parameters in Python\n",
        " - Parameters: Variables defined inside the function defination\n",
        " - Arguments: Actual values passed to the function when calling it\n",
        "\n",
        "3. What are the different ways to define and call a function in Python\n",
        " - Defination: Using def or lambda\n",
        " - Calling: By function name with arguments\n",
        "\n",
        "4. What is the purpose of the `return` statement in a Python function\n",
        "  - It specifies the value that the function should give back to the caller\n",
        "\n",
        "5. What are iterators in Python and how do they differ from iterables\n",
        " - Iterable: An object that can return an iterator(e.g, lists, tuples, strings)\n",
        " - Iterator: An object with _next_() method that returns items one by one\n",
        "\n",
        "6. Explain the concept of generators in Python and how they are defined\n",
        " - Generators are special iterators created using yield instead of return\n",
        " - They produce values one at a time\n",
        "\n",
        "7. What are the advantages of using generators over regular functions\n",
        " - It is Memory efficient that do not store entire data in memory\n",
        " - Lazy evalution that generates values on demand\n",
        " - Useful for large datasets or infinite sequences\n",
        "\n",
        "8. What is a lambda function in Python and when is it typically used\n",
        " - Anonymous function defined using lambda\n",
        " - Used for short, throwaway functions(usually with map, filter, reduce)\n",
        "\n",
        "9. Explain the purpose and usage of the `map()` function in Python\n",
        " - Applies a function to each item of an iterable\n",
        "\n",
        "10. What is the difference between `map()`, `reduce()`, and `filter()` functions in Python\n",
        " - map() -> applies function to all items\n",
        " - filter() -> keeps only items where function returns True\n",
        " - reduce() -> reduces iterables to single value(requires functions)\n",
        "\n",
        "11. Using pen & Paper write the internal mechanism for sum operation using  reduce function on this given\n",
        "list:[47,11,42,13]"
      ],
      "metadata": {
        "id": "j3fZ6O-lVy7o"
      }
    },
    {
      "cell_type": "code",
      "source": [
        "from functools import reduce\n",
        "nums = [47, 11, 42, 13]\n",
        "result = reduce(lambda a, b: a + b, nums)\n",
        "print(result)"
      ],
      "metadata": {
        "colab": {
          "base_uri": "https://localhost:8080/"
        },
        "id": "QG9W3r7WdzL-",
        "outputId": "749451f8-e26a-4258-fea4-e3a6ffae4469"
      },
      "execution_count": null,
      "outputs": [
        {
          "output_type": "stream",
          "name": "stdout",
          "text": [
            "113\n"
          ]
        }
      ]
    },
    {
      "cell_type": "markdown",
      "source": [
        "**Practical Questions:**\n"
      ],
      "metadata": {
        "id": "Ej2aIYakNrHH"
      }
    },
    {
      "cell_type": "markdown",
      "source": [
        "1. Write a Python function that takes a list of numbers as input and returns the sum of all even numbers in\n",
        "the list"
      ],
      "metadata": {
        "id": "dnoMGhgFNx6q"
      }
    },
    {
      "cell_type": "code",
      "source": [
        "def even_num(numbers):\n",
        "  total=0\n",
        "  for num in numbers:\n",
        "    if num%2 == 0:\n",
        "      total+=num\n",
        "  return total\n",
        "print(even_num([1,2,3,4,5,6]))"
      ],
      "metadata": {
        "id": "2sWziNrFN3l2",
        "colab": {
          "base_uri": "https://localhost:8080/"
        },
        "outputId": "08b070eb-aa69-4a3b-d42a-8a2c1a2ec883"
      },
      "execution_count": 8,
      "outputs": [
        {
          "output_type": "stream",
          "name": "stdout",
          "text": [
            "12\n"
          ]
        }
      ]
    },
    {
      "cell_type": "markdown",
      "source": [
        "2. Create a Python function that accepts a string and returns the reverse of that string"
      ],
      "metadata": {
        "id": "VfQNHeGJZrMu"
      }
    },
    {
      "cell_type": "code",
      "source": [
        "def reverse(s):\n",
        "  return s[::-1]\n",
        "print(reverse(\"string\"))"
      ],
      "metadata": {
        "colab": {
          "base_uri": "https://localhost:8080/"
        },
        "id": "TphzRmjYZxHs",
        "outputId": "63e4ba6a-ee0a-453d-a482-d1ad517b4ba1"
      },
      "execution_count": 9,
      "outputs": [
        {
          "output_type": "stream",
          "name": "stdout",
          "text": [
            "gnirts\n"
          ]
        }
      ]
    },
    {
      "cell_type": "markdown",
      "source": [
        "3. Implement a Python function that takes a list of integers and returns a new list containing the squares of\n",
        "each number"
      ],
      "metadata": {
        "id": "N1l2e87Tac-3"
      }
    },
    {
      "cell_type": "code",
      "source": [
        "def square(nums):\n",
        "  result=[]\n",
        "  for num in nums:\n",
        "    result.append(num**2)\n",
        "  return result\n",
        "print(square([1,2,3,4,5]))\n"
      ],
      "metadata": {
        "colab": {
          "base_uri": "https://localhost:8080/"
        },
        "id": "9trboJFBalzQ",
        "outputId": "49d6c114-3216-49b2-d825-67be77a18842"
      },
      "execution_count": 17,
      "outputs": [
        {
          "output_type": "stream",
          "name": "stdout",
          "text": [
            "[1, 4, 9, 16, 25]\n"
          ]
        }
      ]
    },
    {
      "cell_type": "markdown",
      "source": [
        "4. Write a Python function that checks if a given number is prime or not from 1 to 200"
      ],
      "metadata": {
        "id": "vPOnbRZzdJqt"
      }
    },
    {
      "cell_type": "code",
      "source": [
        "def prime(nums):\n",
        "  if nums<2:\n",
        "    return False\n",
        "  for i in range(2, int(nums**0.5) + 1):\n",
        "    if nums%i == 0:\n",
        "      return False\n",
        "  return True\n",
        "print(prime(3))\n",
        "print(prime(6))\n",
        "print(prime(17))"
      ],
      "metadata": {
        "colab": {
          "base_uri": "https://localhost:8080/"
        },
        "id": "I8BFdrUldQXk",
        "outputId": "9f25298c-0d4b-421a-cd07-e58b8656a56b"
      },
      "execution_count": 23,
      "outputs": [
        {
          "output_type": "stream",
          "name": "stdout",
          "text": [
            "True\n",
            "False\n",
            "True\n"
          ]
        }
      ]
    },
    {
      "cell_type": "markdown",
      "source": [
        "5. Create an iterator class in Python that generates the Fibonacci sequence up to a specified number of\n",
        "terms"
      ],
      "metadata": {
        "id": "wrW0ZYxygfhC"
      }
    },
    {
      "cell_type": "code",
      "source": [
        "class Fibonacci:\n",
        "  def __init__(self,n):\n",
        "    self.n=n\n",
        "    self.a,self.b=0,1\n",
        "    self.count=0\n",
        "\n",
        "  def __iter__(self):\n",
        "    return self\n",
        "\n",
        "  def __next__(self):\n",
        "    if self.count >= self.n:\n",
        "      raise StopIteration\n",
        "    if self.count == 0:\n",
        "      self.count+=1\n",
        "      return self.a\n",
        "    elif self.count == 1:\n",
        "      self.count += 1\n",
        "      return self.b\n",
        "    else:\n",
        "      self.a, self.b = self.b, self.a + self.b\n",
        "      self.count += 1\n",
        "      return self.b"
      ],
      "metadata": {
        "id": "OK9-nBqBgk7Q"
      },
      "execution_count": 25,
      "outputs": []
    },
    {
      "cell_type": "markdown",
      "source": [
        "6. Write a generator function in Python that yields the powers of 2 up to a given exponent"
      ],
      "metadata": {
        "id": "n2oKYPFXlqDZ"
      }
    },
    {
      "cell_type": "code",
      "source": [
        "def power_of_two(n):\n",
        "  for i in range(n+1):\n",
        "    yield 2 ** i\n",
        "print(list(power_of_two(5)))"
      ],
      "metadata": {
        "colab": {
          "base_uri": "https://localhost:8080/"
        },
        "id": "CrHCzdF9lv_n",
        "outputId": "0d716d5a-de64-456e-e338-9035818d1b06"
      },
      "execution_count": 26,
      "outputs": [
        {
          "output_type": "stream",
          "name": "stdout",
          "text": [
            "[1, 2, 4, 8, 16, 32]\n"
          ]
        }
      ]
    },
    {
      "cell_type": "markdown",
      "source": [
        "7. Implement a generator function that reads a file line by line and yields each line as a string"
      ],
      "metadata": {
        "id": "_gPnF1CemwK5"
      }
    },
    {
      "cell_type": "code",
      "source": [
        "def read_file(filename):\n",
        "  with open(filename, \"r\") as file:\n",
        "    for line in file:\n",
        "      yield line.strip()"
      ],
      "metadata": {
        "id": "VIxLHrFdm05r"
      },
      "execution_count": 27,
      "outputs": []
    },
    {
      "cell_type": "markdown",
      "source": [
        "8. Use a lambda function in Python to sort a list of tuples based on the second element of each tuple"
      ],
      "metadata": {
        "id": "l-Z19NsBnTYc"
      }
    },
    {
      "cell_type": "code",
      "source": [
        "tuples = [(1,3), (2,1), (4,5), (3,2)]\n",
        "sorted_tuples=sorted(tuples,key=lambda x: x[1])\n",
        "print(sorted_tuples)"
      ],
      "metadata": {
        "colab": {
          "base_uri": "https://localhost:8080/"
        },
        "id": "dPTy6asfnX7K",
        "outputId": "71cc9cf4-f0bd-4854-80e6-c07229655031"
      },
      "execution_count": 29,
      "outputs": [
        {
          "output_type": "stream",
          "name": "stdout",
          "text": [
            "[(2, 1), (3, 2), (1, 3), (4, 5)]\n"
          ]
        }
      ]
    },
    {
      "cell_type": "markdown",
      "source": [
        "9. Write a Python program that uses `map()` to convert a list of temperatures from Celsius to Fahrenheit"
      ],
      "metadata": {
        "id": "Nv-5u9KxoeMD"
      }
    },
    {
      "cell_type": "code",
      "source": [
        "celsius = [0, 20, 30, 40]\n",
        "fahrenheit=list(map(lambda c: (c * 9/5) + 32, celsius))\n",
        "print(fahrenheit)"
      ],
      "metadata": {
        "colab": {
          "base_uri": "https://localhost:8080/"
        },
        "id": "_ZdAlOlsolD3",
        "outputId": "ae030a1c-4647-456f-9d51-9dddb755a8a3"
      },
      "execution_count": 30,
      "outputs": [
        {
          "output_type": "stream",
          "name": "stdout",
          "text": [
            "[32.0, 68.0, 86.0, 104.0]\n"
          ]
        }
      ]
    },
    {
      "cell_type": "markdown",
      "source": [
        "10. Create a Python program that uses `filter()` to remove all the vowels from a given string"
      ],
      "metadata": {
        "id": "zzRGo0HJpUJ4"
      }
    },
    {
      "cell_type": "code",
      "source": [
        "def remove_vowels(s):\n",
        "  return \"\".join(filter(lambda ch: ch.lower() not in 'aeiou',s))\n",
        "print(remove_vowels(\"Hello World\"))"
      ],
      "metadata": {
        "colab": {
          "base_uri": "https://localhost:8080/"
        },
        "id": "eywE1flEpZ8m",
        "outputId": "88ffa116-9579-4cad-f4b4-c49e888d3956"
      },
      "execution_count": 31,
      "outputs": [
        {
          "output_type": "stream",
          "name": "stdout",
          "text": [
            "Hll Wrld\n"
          ]
        }
      ]
    },
    {
      "cell_type": "markdown",
      "source": [
        "11. Imagine an accounting routine used in a book shop. It works on a list with sublists, which look like this:\n",
        "\n",
        "Write a Python program, which returns a list with 2-tuples. Each tuple consists of the order number and the\n",
        "product of the price per item and the quantity. The product should be increased by 10,- € if the value of the\n",
        "order is smaller than 100,00 €."
      ],
      "metadata": {
        "id": "1qHgQmgxsPfo"
      }
    },
    {
      "cell_type": "code",
      "source": [
        "orders = [\n",
        "    [34587, \"Learning Python, Mark Lutz\", 4, 40.95],\n",
        "    [98762, \"Programming Python, Mark Lutz\", 5, 56.80],\n",
        "    [77226, \"Head First Python, Paul Barry\", 3, 32.95],\n",
        "    [88112, \"Einführung in Python3, Bernd Klein\", 3, 24.99]\n",
        "]\n",
        "\n",
        "def process_order(orders):\n",
        "  result = []\n",
        "  for order in orders:\n",
        "    order_num, title, quantity, price = order\n",
        "\n",
        "    total =quantity * price\n",
        "    if total < 100:\n",
        "      total+=10\n",
        "    result.append((order_num, total))\n",
        "  return result\n",
        "\n",
        "print(process_order(orders))"
      ],
      "metadata": {
        "colab": {
          "base_uri": "https://localhost:8080/"
        },
        "id": "vkN0ej5QsVfU",
        "outputId": "20428170-6364-4642-de81-a9e792cbcb62"
      },
      "execution_count": 32,
      "outputs": [
        {
          "output_type": "stream",
          "name": "stdout",
          "text": [
            "[(34587, 163.8), (98762, 284.0), (77226, 108.85000000000001), (88112, 84.97)]\n"
          ]
        }
      ]
    },
    {
      "cell_type": "markdown",
      "source": [
        "Write a Python program using lambda and map"
      ],
      "metadata": {
        "id": "b7zJLZm-tkTr"
      }
    },
    {
      "cell_type": "code",
      "source": [
        "orders = [\n",
        "    [34587, \"Learning Python, Mark Lutz\", 4, 40.95],\n",
        "    [98762, \"Programming Python, Mark Lutz\", 5, 56.80],\n",
        "    [77226, \"Head First Python, Paul Barry\", 3, 32.95],\n",
        "    [88112, \"Einführung in Python3, Bernd Klein\", 3, 24.99]\n",
        "]\n",
        "\n",
        "result = list(map(lambda x: (x[0], x[2]*x[3] if x[2]*x[3] >= 100 else x[2]*x[3] + 10), orders))\n",
        "\n",
        "print(result)"
      ],
      "metadata": {
        "colab": {
          "base_uri": "https://localhost:8080/"
        },
        "id": "lRiZpx1atoaN",
        "outputId": "caa3886b-29a7-4ebb-8b9b-aab4d4dd5a54"
      },
      "execution_count": 33,
      "outputs": [
        {
          "output_type": "stream",
          "name": "stdout",
          "text": [
            "[(34587, 163.8), (98762, 284.0), (77226, 108.85000000000001), (88112, 84.97)]\n"
          ]
        }
      ]
    }
  ]
}